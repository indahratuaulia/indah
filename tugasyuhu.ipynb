{
  "nbformat": 4,
  "nbformat_minor": 0,
  "metadata": {
    "colab": {
      "name": "Untitled0.ipynb",
      "provenance": [],
      "authorship_tag": "ABX9TyNwbz+KBw7t5lGcHO8uwq+0",
      "include_colab_link": true
    },
    "kernelspec": {
      "name": "python3",
      "display_name": "Python 3"
    }
  },
  "cells": [
    {
      "cell_type": "markdown",
      "metadata": {
        "id": "view-in-github",
        "colab_type": "text"
      },
      "source": [
        "<a href=\"https://colab.research.google.com/github/indahratuaulia/indah/blob/main/tugasyuhu.ipynb\" target=\"_parent\"><img src=\"https://colab.research.google.com/assets/colab-badge.svg\" alt=\"Open In Colab\"/></a>"
      ]
    },
    {
      "cell_type": "code",
      "metadata": {
        "id": "bJh3pWl6jABs"
      },
      "source": [
        "import numpy as np\r\n",
        "import matplotlib.pyplot as plt\r\n"
      ],
      "execution_count": 1,
      "outputs": []
    },
    {
      "cell_type": "code",
      "metadata": {
        "id": "ci1LKdm6jNYn"
      },
      "source": [
        "def cos(frek,tipe,ht,hr,d):\r\n",
        "    if frek in range(150,1501):\r\n",
        "        Ca=69.55\r\n",
        "        Cb=26.16\r\n",
        "    elif frek in range(1501,2001):\r\n",
        "        Ca=46.3\r\n",
        "        Cb=33.9\r\n",
        "    \r\n",
        "    if tipe=='urban' :\r\n",
        "        Cm=0\r\n",
        "    elif tipe=='suburban' :\r\n",
        "        Cm= -2*((np.log10((frek/28)**2))-5.4)\r\n",
        "    elif tipe=='open' :\r\n",
        "        Cm= -4.78*(np.log10(frek))+18.33*(np.log10(frek))-40.94\r\n",
        "    else :\r\n",
        "        Cm='tipe salah'\r\n",
        "    \r\n",
        "    ahr = (1.1*np.log10(frek)-0.7)*hr-(1.56*np.log10(frek)-1.8)\r\n",
        "    Lp = Ca+(Cb*np.log10(frek))-(13.83*np.log(ht))-ahr+((44.9-6.55*np.log10(ht))*np.log10(d))-Cm\r\n",
        "    \r\n",
        "    return Lp"
      ],
      "execution_count": 2,
      "outputs": []
    },
    {
      "cell_type": "code",
      "metadata": {
        "id": "LicEOyUFjQRc"
      },
      "source": [
        "f=1800 #MHz\r\n",
        "tipe1='urban'\r\n",
        "tipe2='suburban'\r\n",
        "tipe3='open'\r\n",
        "tower=80 #m\r\n",
        "user=1.5 #m\r\n",
        "dmin=500 #m\r\n",
        "dmax=700 #m\r\n",
        "N=200 #titik\r\n",
        "d=np.random.randint(dmin,dmax,N)"
      ],
      "execution_count": 3,
      "outputs": []
    },
    {
      "cell_type": "code",
      "metadata": {
        "colab": {
          "base_uri": "https://localhost:8080/"
        },
        "id": "F1y2rROijS7Z",
        "outputId": "90488302-63d8-431a-cba3-47a7f44d3207"
      },
      "source": [
        "print(d)"
      ],
      "execution_count": 4,
      "outputs": [
        {
          "output_type": "stream",
          "text": [
            "[648 594 507 681 564 643 604 650 671 599 602 661 611 545 622 531 637 663\n",
            " 656 680 590 527 535 580 601 686 650 677 574 552 514 628 611 670 512 578\n",
            " 592 615 614 664 541 546 681 609 689 546 687 647 628 672 620 532 653 603\n",
            " 687 529 694 636 541 562 626 584 646 543 540 525 500 682 545 693 614 554\n",
            " 635 684 585 657 599 602 699 632 555 690 616 627 683 669 571 697 567 682\n",
            " 611 595 665 587 503 679 629 621 549 574 640 584 516 532 586 648 676 671\n",
            " 564 553 574 588 571 500 664 678 547 654 626 602 551 504 507 577 649 598\n",
            " 598 590 501 559 563 527 652 689 635 645 652 604 542 504 578 551 541 645\n",
            " 617 615 695 653 645 662 540 695 564 668 523 685 521 686 642 509 684 641\n",
            " 665 624 603 616 624 587 521 580 576 604 603 537 567 536 568 605 516 667\n",
            " 530 695 510 589 643 546 681 597 522 534 576 575 557 646 579 506 521 668\n",
            " 683 577]\n"
          ],
          "name": "stdout"
        }
      ]
    },
    {
      "cell_type": "code",
      "metadata": {
        "id": "3N1tHjvMjVYO"
      },
      "source": [
        "LpUrban=cos(f,tipe1,tower,user,d)\r\n",
        "LpSuburban=cos(f,tipe2,tower,user,d)\r\n",
        "LpOpen=cos(f,tipe3,tower,user,d)"
      ],
      "execution_count": 5,
      "outputs": []
    },
    {
      "cell_type": "code",
      "metadata": {
        "id": "BZHIVV7xjXeZ"
      },
      "source": [
        "d_sort=d[np.argsort(d)]\r\n",
        "Urban_sort=LpUrban[np.argsort(d)]\r\n",
        "Suburban_sort=LpSuburban[np.argsort(d)]\r\n",
        "Open_sort=LpOpen[np.argsort(d)]"
      ],
      "execution_count": 6,
      "outputs": []
    },
    {
      "cell_type": "code",
      "metadata": {
        "colab": {
          "base_uri": "https://localhost:8080/",
          "height": 295
        },
        "id": "LBjOI4zajbdw",
        "outputId": "3a358066-1ae8-4071-9281-5d18f0d37d53"
      },
      "source": [
        "plt.figure()\r\n",
        "plt.plot(d_sort,Urban_sort,'r-', label='Urban')\r\n",
        "plt.plot(d_sort,Suburban_sort,'k-', label='Suburban')\r\n",
        "plt.plot(d_sort,Open_sort,'g-', label='Open')\r\n",
        "plt.legend()\r\n",
        "plt.title('Frekuensi 1800 MHz')\r\n",
        "plt.xlabel('Jarak (m)')\r\n",
        "plt.ylabel('Path Loss (dB)')\r\n",
        "plt.show()\r\n"
      ],
      "execution_count": 7,
      "outputs": [
        {
          "output_type": "display_data",
          "data": {
            "image/png": "[encoded data removed]",
            "text/plain": [
              "<Figure size 432x288 with 1 Axes>"
            ]
          },
          "metadata": {
            "tags": [],
            "needs_background": "light"
          }
        }
      ]
    },
    {
      "cell_type": "code",
      "metadata": {
        "id": "Wv4z17uxjdtZ"
      },
      "source": [
        "f=700 #MHz\r\n",
        "f2=900 #MHz\r\n",
        "f3=1800 #MHz\r\n",
        "tipe1='urban'\r\n",
        "tower=80 #m\r\n",
        "user=1.5 #m\r\n",
        "dmin=500 #m\r\n",
        "dmax=700 #m\r\n",
        "N=200 #titik\r\n",
        "d=np.random.randint(dmin,dmax,N)"
      ],
      "execution_count": 8,
      "outputs": []
    },
    {
      "cell_type": "code",
      "metadata": {
        "id": "Y-OUgGX8jf_L"
      },
      "source": [
        "LpUrban=cos(f,tipe1,tower,user,d)\r\n",
        "LpUrban2=cos(f2,tipe1,tower,user,d)\r\n",
        "LpUrban3=cos(f3,tipe1,tower,user,d)"
      ],
      "execution_count": 9,
      "outputs": []
    },
    {
      "cell_type": "code",
      "metadata": {
        "id": "rNDRK4lhjiMk"
      },
      "source": [
        "d_sort=d[np.argsort(d)]\r\n",
        "Urban_sort=LpUrban[np.argsort(d)]\r\n",
        "Urban2_sort=LpUrban2[np.argsort(d)]\r\n",
        "Urban3_sort=LpUrban3[np.argsort(d)]"
      ],
      "execution_count": 10,
      "outputs": []
    },
    {
      "cell_type": "code",
      "metadata": {
        "colab": {
          "base_uri": "https://localhost:8080/",
          "height": 295
        },
        "id": "-H1cPtyUjkiZ",
        "outputId": "635eed06-7dd2-467c-e9fb-6a304dd71242"
      },
      "source": [
        "plt.figure()\r\n",
        "plt.plot(d_sort,Urban_sort,'r-', label='700 Mhz')\r\n",
        "plt.plot(d_sort,Urban2_sort,'k-', label='900 Mhz')\r\n",
        "plt.plot(d_sort,Urban3_sort,'g-', label='1800 Mhz')\r\n",
        "plt.legend()\r\n",
        "plt.title('Model Urban')\r\n",
        "plt.xlabel('Jarak (m)')\r\n",
        "plt.ylabel('Path Loss (dB)')\r\n",
        "plt.show()\r\n"
      ],
      "execution_count": 11,
      "outputs": [
        {
          "output_type": "display_data",
          "data": {
            "image/png": "[encoded data removed]",
            "text/plain": [
              "<Figure size 432x288 with 1 Axes>"
            ]
          },
          "metadata": {
            "tags": [],
            "needs_background": "light"
          }
        }
      ]
    }
  ]
}